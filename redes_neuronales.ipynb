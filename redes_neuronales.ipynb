{
  "cells": [
    {
      "cell_type": "markdown",
      "metadata": {
        "id": "LGc614jTBjBA"
      },
      "source": [
        "## REDES NEURONALES"
      ]
    },
    {
      "cell_type": "markdown",
      "metadata": {
        "id": "3gbmMAlSBjBB"
      },
      "source": [
        "# Librerías"
      ]
    },
    {
      "cell_type": "code",
      "execution_count": null,
      "metadata": {
        "id": "gHgCN1W0BjBC"
      },
      "outputs": [],
      "source": [
        "import pandas as pd\n",
        "import pydot\n",
        "import seaborn as sns\n",
        "import matplotlib.pyplot as plt\n",
        "from sklearn.model_selection import train_test_split\n",
        "from sklearn.preprocessing import MinMaxScaler\n",
        "import tensorflow as tf\n",
        "from tensorflow.keras.optimizers import Adam\n",
        "\n",
        "import numpy as np\n",
        "import pandas as pd\n",
        "from sklearn.model_selection import train_test_split\n",
        "from sklearn.preprocessing import MinMaxScaler\n",
        "from sklearn.metrics import accuracy_score\n",
        "from tensorflow.keras.models import Sequential\n",
        "from tensorflow.keras.layers import Dense\n",
        "from tensorflow.keras.callbacks import EarlyStopping, ModelCheckpoint"
      ]
    },
    {
      "cell_type": "markdown",
      "metadata": {
        "id": "mzJNDdHwBjBE"
      },
      "source": [
        "# Código"
      ]
    },
    {
      "cell_type": "markdown",
      "metadata": {
        "id": "c2kg3kAdBjBE"
      },
      "source": [
        "# Clasificación de la calidad del vino"
      ]
    },
    {
      "cell_type": "code",
      "execution_count": null,
      "metadata": {
        "id": "AEx_Uw8JBjBF"
      },
      "outputs": [],
      "source": [
        "wine = pd.read_csv('csv/WineQT.csv')"
      ]
    },
    {
      "cell_type": "code",
      "execution_count": null,
      "metadata": {
        "colab": {
          "base_uri": "https://localhost:8080/",
          "height": 204
        },
        "id": "rOqMyKkKBjBF",
        "outputId": "d6b2b26f-607f-4caa-cbf5-d507215efbe6"
      },
      "outputs": [],
      "source": [
        "wine.head(5)"
      ]
    },
    {
      "cell_type": "code",
      "execution_count": null,
      "metadata": {
        "colab": {
          "base_uri": "https://localhost:8080/",
          "height": 204
        },
        "id": "2Hab8Uu-BjBF",
        "outputId": "ac6b307c-173a-4ecc-d315-10d05984f31f"
      },
      "outputs": [],
      "source": [
        "wine.tail(5)"
      ]
    },
    {
      "cell_type": "code",
      "execution_count": null,
      "metadata": {
        "colab": {
          "base_uri": "https://localhost:8080/",
          "height": 297
        },
        "id": "nYEaBcOQBjBG",
        "outputId": "1bec4493-24df-40fa-c1e2-0aa8d082fe1a"
      },
      "outputs": [],
      "source": [
        "wine.describe()"
      ]
    },
    {
      "cell_type": "code",
      "execution_count": null,
      "metadata": {
        "colab": {
          "base_uri": "https://localhost:8080/",
          "height": 1000
        },
        "id": "fFhXjUysBjBG",
        "outputId": "03143bfa-a3a6-47e3-878a-86825ddf5fd0"
      },
      "outputs": [],
      "source": [
        "sns.set()\n",
        "fig, ax = plt.subplots(figsize=(25,11))    \n",
        "sns.heatmap(wine.corr(), square=True, annot=True, linewidths=2)"
      ]
    },
    {
      "cell_type": "code",
      "execution_count": null,
      "metadata": {
        "id": "MYQMD-iLBjBG"
      },
      "outputs": [],
      "source": [
        "wine = wine.drop('Id', axis=1)\n",
        "wine = wine.drop('pH', axis=1)\n",
        "wine = wine.drop('chlorides', axis=1)\n",
        "wine = wine.drop('free sulfur dioxide', axis=1)\n",
        "wine = wine.drop('residual sugar', axis=1)"
      ]
    },
    {
      "cell_type": "code",
      "execution_count": null,
      "metadata": {
        "id": "Qg-KYN59BjBH"
      },
      "outputs": [],
      "source": [
        "train_wine, test_wine = train_test_split(wine, test_size=0.2, random_state=42)"
      ]
    },
    {
      "cell_type": "code",
      "execution_count": null,
      "metadata": {
        "id": "yfaDP_NCBjBH"
      },
      "outputs": [],
      "source": [
        "X_train = train_wine.drop(['quality'], axis=1)\n",
        "y_train = train_wine['quality']\n",
        "X_test = test_wine.drop(['quality'], axis=1)\n",
        "y_test = test_wine['quality']"
      ]
    },
    {
      "cell_type": "code",
      "execution_count": null,
      "metadata": {
        "id": "ZwUb7WVPBjBH"
      },
      "outputs": [],
      "source": [
        "scaler = MinMaxScaler()\n",
        "X_train = scaler.fit_transform(X_train)\n",
        "X_test = scaler.transform(X_test)"
      ]
    },
    {
      "cell_type": "code",
      "execution_count": null,
      "metadata": {
        "colab": {
          "base_uri": "https://localhost:8080/"
        },
        "id": "tPj5dWrOGKm_",
        "outputId": "da42e0a9-50fa-4a26-c28b-700715bfed4b"
      },
      "outputs": [],
      "source": [
        "def create_model(units=64, dropout_rate=0.2, optimizer='adam', learning_rate=0.001):\n",
        "    model = Sequential([\n",
        "        Dense(units=units, activation='relu', input_shape=(7,)),\n",
        "        Dense(units=units, activation='relu'),\n",
        "        Dense(units=10, activation='softmax')\n",
        "    ])\n",
        "    model.compile(optimizer=optimizer,\n",
        "                  loss='sparse_categorical_crossentropy',\n",
        "                  metrics=['accuracy'])\n",
        "    return model\n",
        "\n",
        "# define hyperparameters to search\n",
        "units = [16, 32, 64, 128]\n",
        "dropout_rate = [0.1, 0.2, 0.3]\n",
        "#optimizer = ['adam', 'rmsprop']\n",
        "optimizer = ['adam', 'rmsprop', 'sgd', 'adagrad', 'adadelta', 'adamax', 'nadam']\n",
        "\n",
        "# initialize best accuracy and corresponding model\n",
        "best_accuracy = 0\n",
        "best_model = None\n",
        "\n",
        "# iterate over hyperparameters and train models\n",
        "for u in units:\n",
        "    for d in dropout_rate:\n",
        "        for o in optimizer:\n",
        "            print(f'Training model with units={u}, dropout={d}, optimizer={o}')\n",
        "            \n",
        "            # create and compile model\n",
        "            model = create_model(units=u, dropout_rate=d, optimizer=o)\n",
        "            \n",
        "            # define early stopping and model checkpoint callbacks\n",
        "            early_stop = EarlyStopping(monitor='val_loss', patience=5)\n",
        "            checkpoint = ModelCheckpoint('best_model_wine.h5', save_best_only=True)\n",
        "            \n",
        "            # train model\n",
        "            history = model.fit(X_train, y_train, batch_size=32, epochs=50, \n",
        "                                validation_data=(X_test, y_test), callbacks=[early_stop, checkpoint])\n",
        "            \n",
        "            # evaluate model on test set\n",
        "            y_prob = model.predict(X_test)\n",
        "            y_pred = y_prob.argmax(axis=-1)\n",
        "            accuracy = accuracy_score(y_test, y_pred)\n",
        "            print(f'Test accuracy: {accuracy*100}%')\n",
        "            \n",
        "            # save best model if accuracy improves\n",
        "            if accuracy > best_accuracy:\n",
        "                best_accuracy = accuracy\n",
        "                best_model = model\n",
        "\n",
        "print(f'Best test accuracy: {best_accuracy*100}%')\n",
        "best_model.save('final_model_wine.h5')"
      ]
    },
    {
      "cell_type": "code",
      "execution_count": null,
      "metadata": {
        "id": "0QuGNeP7GKiD"
      },
      "outputs": [],
      "source": [
        "from keras.models import load_model\n",
        "from sklearn.metrics import accuracy_score\n",
        "import numpy as np\n",
        "\n",
        "# load the saved model from file\n",
        "model = load_model('best_model_wine.h5')\n",
        "model2 = load_model('final_model_wine.h5')\n",
        "\n",
        "# evaluate the model on test data and get accuracy score\n",
        "accuracy = model.evaluate(X_test, y_test)\n",
        "accuracy2 = model2.evaluate(X_test, y_test)\n",
        "print('Best Model Accuracy: %.2f%%' % (accuracy[1] * 100))\n",
        "print('Final Model Accuracy: %.2f%%' % (accuracy2[1] * 100))"
      ]
    },
    {
      "cell_type": "markdown",
      "metadata": {
        "id": "jhfIyajVBjBI"
      },
      "source": [
        "# Clasificar entre presencia de enfermedad del corazón o no"
      ]
    },
    {
      "cell_type": "code",
      "execution_count": null,
      "metadata": {
        "id": "BLA4OGBeBjBI"
      },
      "outputs": [],
      "source": [
        "heart = pd.read_csv('csv/heart.csv')"
      ]
    },
    {
      "cell_type": "code",
      "execution_count": null,
      "metadata": {
        "id": "5F5dLizRBjBJ"
      },
      "outputs": [],
      "source": [
        "heart.head(5)"
      ]
    },
    {
      "cell_type": "code",
      "execution_count": null,
      "metadata": {
        "id": "g89am-YfBjBJ"
      },
      "outputs": [],
      "source": [
        "heart.tail(5)"
      ]
    },
    {
      "cell_type": "code",
      "execution_count": null,
      "metadata": {
        "id": "a0FgPR-lBjBK"
      },
      "outputs": [],
      "source": [
        "sns.set()\n",
        "fig, ax = plt.subplots(figsize=(25,11))    \n",
        "sns.heatmap(heart.corr(), square=True, annot=True, linewidths=2)"
      ]
    },
    {
      "cell_type": "code",
      "execution_count": null,
      "metadata": {
        "id": "bVtDCI7u2D_4"
      },
      "outputs": [],
      "source": [
        "heart = heart.apply(lambda col: pd.factorize(col, sort=True)[0])"
      ]
    },
    {
      "cell_type": "code",
      "execution_count": null,
      "metadata": {
        "id": "3mD4z3ts2GV7"
      },
      "outputs": [],
      "source": [
        "heart"
      ]
    },
    {
      "cell_type": "code",
      "execution_count": null,
      "metadata": {
        "id": "BhDmI3781mDX"
      },
      "outputs": [],
      "source": [
        "train_heart, test_heart = train_test_split(heart, test_size=0.2, random_state=42)"
      ]
    },
    {
      "cell_type": "code",
      "execution_count": null,
      "metadata": {
        "id": "ZWGU9k5F1ue-"
      },
      "outputs": [],
      "source": [
        "X_train = train_heart.drop(['HeartDisease'], axis=1)\n",
        "y_train = train_heart['HeartDisease']\n",
        "X_test = test_heart.drop(['HeartDisease'], axis=1)\n",
        "y_test = test_heart['HeartDisease']"
      ]
    },
    {
      "cell_type": "code",
      "execution_count": null,
      "metadata": {
        "id": "5i88nJed1ufA"
      },
      "outputs": [],
      "source": [
        "scaler = MinMaxScaler()\n",
        "X_train = scaler.fit_transform(X_train)\n",
        "X_test = scaler.transform(X_test)"
      ]
    },
    {
      "cell_type": "code",
      "execution_count": null,
      "metadata": {
        "id": "vdNHZPuZ1ufB"
      },
      "outputs": [],
      "source": [
        "def create_model(units=64, dropout_rate=0.2, optimizer='adam', learning_rate=0.001):\n",
        "    model = Sequential([\n",
        "        Dense(units=units, activation='relu', input_shape=(7,)),\n",
        "        Dense(units=units, activation='relu'),\n",
        "        Dense(units=10, activation='softmax')\n",
        "    ])\n",
        "    model.compile(optimizer=optimizer,\n",
        "                  loss='sparse_categorical_crossentropy',\n",
        "                  metrics=['accuracy'])\n",
        "    return model\n",
        "\n",
        "# define hyperparameters to search\n",
        "units = [16, 32, 64, 128]\n",
        "dropout_rate = [0.1, 0.2, 0.3]\n",
        "#optimizer = ['adam', 'rmsprop']\n",
        "optimizer = ['adam', 'rmsprop', 'sgd', 'adagrad', 'adadelta', 'adamax', 'nadam']\n",
        "\n",
        "# initialize best accuracy and corresponding model\n",
        "best_accuracy = 0\n",
        "best_model = None\n",
        "\n",
        "# iterate over hyperparameters and train models\n",
        "for u in units:\n",
        "    for d in dropout_rate:\n",
        "        for o in optimizer:\n",
        "            print(f'Training model with units={u}, dropout={d}, optimizer={o}')\n",
        "            \n",
        "            # create and compile model\n",
        "            model = create_model(units=u, dropout_rate=d, optimizer=o)\n",
        "            \n",
        "            # define early stopping and model checkpoint callbacks\n",
        "            early_stop = EarlyStopping(monitor='val_loss', patience=5)\n",
        "            checkpoint = ModelCheckpoint('best_model_heart.h5', save_best_only=True)\n",
        "            \n",
        "            # train model\n",
        "            history = model.fit(X_train, y_train, batch_size=32, epochs=50, \n",
        "                                validation_data=(X_test, y_test), callbacks=[early_stop, checkpoint])\n",
        "            \n",
        "            # evaluate model on test set\n",
        "            y_prob = model.predict(X_test)\n",
        "            y_pred = y_prob.argmax(axis=-1)\n",
        "            accuracy = accuracy_score(y_test, y_pred)\n",
        "            print(f'Test accuracy: {accuracy*100}%')\n",
        "            \n",
        "            # save best model if accuracy improves\n",
        "            if accuracy > best_accuracy:\n",
        "                best_accuracy = accuracy\n",
        "                best_model = model\n",
        "\n",
        "print(f'Best test accuracy: {best_accuracy*100}%')\n",
        "best_model.save('final_model_heart.h5')"
      ]
    },
    {
      "cell_type": "code",
      "execution_count": null,
      "metadata": {
        "id": "exSK-XbV1l-z"
      },
      "outputs": [],
      "source": [
        "from keras.models import load_model\n",
        "from sklearn.metrics import accuracy_score\n",
        "import numpy as np\n",
        "\n",
        "# load the saved model from file\n",
        "model = load_model('best_model_heart.h5')\n",
        "model2 = load_model('final_model_heart.h5')\n",
        "\n",
        "# evaluate the model on test data and get accuracy score\n",
        "accuracy = model.evaluate(X_test, y_test)\n",
        "accuracy2 = model2.evaluate(X_test, y_test)\n",
        "print('Best Model Accuracy: %.2f%%' % (accuracy[1] * 100))\n",
        "print('Final Model Accuracy: %.2f%%' % (accuracy2[1] * 100))"
      ]
    }
  ],
  "metadata": {
    "colab": {
      "provenance": []
    },
    "kernelspec": {
      "display_name": "venv",
      "language": "python",
      "name": "python3"
    },
    "language_info": {
      "codemirror_mode": {
        "name": "ipython",
        "version": 3
      },
      "file_extension": ".py",
      "mimetype": "text/x-python",
      "name": "python",
      "nbconvert_exporter": "python",
      "pygments_lexer": "ipython3",
      "version": "3.9.6"
    },
    "orig_nbformat": 4
  },
  "nbformat": 4,
  "nbformat_minor": 0
}

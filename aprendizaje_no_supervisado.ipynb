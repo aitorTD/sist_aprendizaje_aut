{
 "cells": [
  {
   "attachments": {},
   "cell_type": "markdown",
   "metadata": {},
   "source": [
    "# Librerías necesarias"
   ]
  },
  {
   "cell_type": "code",
   "execution_count": null,
   "metadata": {},
   "outputs": [],
   "source": [
    "import numpy as np\n",
    "import matplotlib.pyplot as plt\n",
    "from sklearn.cluster import KMeans\n",
    "import pandas as pd\n",
    "import numpy as np\n",
    "from numpy import mean\n",
    "\n",
    "from sklearn import preprocessing\n",
    "from skfuzzy.cluster import cmeans\n",
    "import matplotlib.pyplot as plt"
   ]
  },
  {
   "attachments": {},
   "cell_type": "markdown",
   "metadata": {},
   "source": [
    "# 1. Segmentación de clientes"
   ]
  },
  {
   "cell_type": "code",
   "execution_count": null,
   "metadata": {},
   "outputs": [],
   "source": [
    "clientes = pd.read_csv('csv/Mall_Customers.csv')\n",
    "clientes"
   ]
  },
  {
   "cell_type": "code",
   "execution_count": null,
   "metadata": {},
   "outputs": [],
   "source": [
    "le = preprocessing.LabelEncoder() \n",
    "clientes['Gender'] = le.fit_transform(clientes.Gender.values)\n",
    "clientes"
   ]
  },
  {
   "cell_type": "code",
   "execution_count": null,
   "metadata": {},
   "outputs": [],
   "source": [
    "X = clientes.to_numpy()"
   ]
  },
  {
   "cell_type": "code",
   "execution_count": null,
   "metadata": {},
   "outputs": [],
   "source": [
    "N = X.shape[0]\n",
    "K = 4\n",
    "\n",
    "SSE = []\n",
    "\n",
    "for i in range(0, N):\n",
    "  X_sin_i = np.delete(X, i, axis=0)\n",
    "  kmeans = KMeans(n_clusters=K, n_init=10, random_state=100).fit(X_sin_i)\n",
    "  SSE.append(kmeans.inertia_)"
   ]
  },
  {
   "cell_type": "code",
   "execution_count": null,
   "metadata": {},
   "outputs": [],
   "source": [
    "sigma = np.std(SSE)\n",
    "mu = np.mean(SSE)\n",
    "\n",
    "# 2 para distribución normal\n",
    "# 3 para cualquier otra distribución\n",
    "umbral = 2\n",
    "\n",
    "outliers = []\n",
    "for i in range(0, N):\n",
    "  if np.abs(SSE[i]-mu) > umbral*sigma:\n",
    "    outliers.append(i)\n",
    "print(outliers)"
   ]
  },
  {
   "cell_type": "code",
   "execution_count": null,
   "metadata": {},
   "outputs": [],
   "source": [
    "X = clientes[[\"Annual Income (k$)\", \"Spending Score (1-100)\"]].values\n",
    "\n",
    "# Graficar los datos\n",
    "plt.plot(X[clientes[\"Gender\"]==1, 0], X[clientes[\"Gender\"]==1, 1], 'rs') # 'rs' -> red square\n",
    "plt.plot(X[clientes[\"Gender\"]==0, 0], X[clientes[\"Gender\"]==0, 1], 'bo') # 'bo' -> blue circulos\n",
    "plt.title(\"Datos\", fontsize=16) # titulo\n",
    "plt.xlabel(\"Ingreso Anual (k$)\", fontsize=14) # etiquetas del eje x\n",
    "plt.ylabel(\"Puntuación de Gastos (1-100)\", fontsize=14) # etiquetas del eje y\n",
    "plt.show()"
   ]
  },
  {
   "cell_type": "code",
   "execution_count": null,
   "metadata": {},
   "outputs": [],
   "source": [
    "# inicializar kmeans\n",
    "# n_cluster -> numero de grupos ; random_state -> semilla\n",
    "kmeans = KMeans(n_clusters=2, random_state=10)\n",
    "\n",
    "# entrenamiento (ajustar el modelo)\n",
    "kmeans.fit(X)\n",
    "\n",
    "# prediccion -> devuelve array con el número de grupo al que pretenece cada dato\n",
    "pred = kmeans.predict(X) # También puede utilizarse kmeans.fit_predict(X) realiza ambas etapas\n",
    "\n",
    "# obtener centroides de los grupos\n",
    "centroides = kmeans.cluster_centers_\n",
    "\n",
    "print(centroides)\n",
    "\n",
    "pred"
   ]
  },
  {
   "cell_type": "code",
   "execution_count": null,
   "metadata": {},
   "outputs": [],
   "source": [
    "## Representación gráfica de la solución\n",
    "fig, (ax1, ax2) = plt.subplots(1, 2)\n",
    "fig.set_size_inches(12, 5)\n",
    "fig.suptitle('Resultado tras aplicar K-medias', fontsize=16)\n",
    "\n",
    "ax1.plot(X[:20, 0], X[:20, 1], 'rs')\n",
    "ax1.plot(X[20:, 0], X[20:, 1], 'bo')\n",
    "ax1.set_title(\"Datos\", fontsize=14)\n",
    "ax1.set_xlabel(r\"$x_1$\", fontsize=14)\n",
    "ax1.set_ylabel(r\"$x_2$\", fontsize=14)\n",
    "\n",
    "ax2.plot(X[pred==0, 0], X[pred==0, 1], 'ro', label=\"Cluster 0\") \n",
    "ax2.plot(X[pred==1, 0], X[pred==1, 1], 'bo', label=\"Cluster 1\") \n",
    "ax2.plot(centroides[:, 0], centroides[:, 1], 'k*', markersize=14) # Dibujamos los centroides\n",
    "ax2.legend()\n",
    "ax2.set_title(\"Algoritmo K-medias\", fontsize=14)\n",
    "ax2.set_xlabel(r\"$x_1$\", fontsize=14)\n",
    "ax2.set_ylabel(r\"$x_2$\", fontsize=14)\n",
    "\n",
    "fig.show()"
   ]
  },
  {
   "cell_type": "code",
   "execution_count": null,
   "metadata": {},
   "outputs": [],
   "source": [
    "def BIC(K, grupos, X):\n",
    "    filas, columnas = X.shape\n",
    "\n",
    "    N = filas\n",
    "    P = columnas\n",
    "\n",
    "    sumatorio = 0.0\n",
    "    var_estimada = 0.0\n",
    "\n",
    "    for k in range(0, K):\n",
    "        suma_var_estimada = 0.0\n",
    "        nk =sum(grupos==k)\n",
    "        for j in range(0, P):\n",
    "            sigma_j = np.square(np.std(X[:, j]))\n",
    "            sigma_jk = np.square(np.std(X[grupos==k, j]))\n",
    "            suma_var_estimada += 0.5 * np.log(sigma_j + sigma_jk)\n",
    "        sumatorio += -nk * suma_var_estimada\n",
    "    homogeneidad = -2 * sumatorio\n",
    "\n",
    "    coste_centroides = 2 * K * P * np.log(N)\n",
    "    bic = homogeneidad + coste_centroides\n",
    "    return bic"
   ]
  },
  {
   "cell_type": "code",
   "execution_count": null,
   "metadata": {},
   "outputs": [],
   "source": [
    "K = 2 # Número de clusters\n",
    "m = 2 # Parámetro de FCM, 2 es el defecto\n",
    "tolerancia = 1e-5 # Tolerancia (criterio de parada)\n",
    "maxiter = 100 # Número máximo de iteraciones\n",
    "\n",
    "centroides, U, u0, d, jm, p, fpc = cmeans(X.T, K, m, tolerancia, maxiter, seed=100)\n",
    "# Parámetros de salida:\n",
    "# - centroides: Centroides\n",
    "# - U: Matriz de pertenencia de los indiviuos a los clusters\n",
    "# - u0: Matriz u en la iteración 0\n",
    "# - d: Matriz de distancias Euclideas en la última iteración # - jm: Historico del valor de la función objetivo # - p: Número de iteraciones\n",
    "# - fpc: Coeficiente de partición difusa final\n",
    "\n",
    "# Obtener a que grupo pertenece cada observación\n",
    "grupos = np.argmax(U, axis=0) # Devuelve los indices del valor máximo sobre el eje 0 (filas)\n",
    "\n",
    "# Obtener el grado de pertenencia al grupo con mayor pertenencia\n",
    "maxU = np.amax(U, axis=0) # Devuelve el valor máximo sobre el eje 0 (filas)\n",
    "\n",
    "# representación\n",
    "\n",
    "plt.figure(figsize= (9, 6))\n",
    "\n",
    "for k in range (0, K):\n",
    "    plt.scatter(X[grupos==k, 0], X[grupos==k, 1], label=\"Grupo {}\".format(k))\n",
    "\n",
    "for i, maxU_i in enumerate (np.round(maxU, 2)):\n",
    "    plt.annotate (maxU_i, (X[i, 0], X[i, 1]))\n",
    "\n",
    "# Dibujamos los centroides\n",
    "plt.plot(centroides[:, 0], centroides[:, 1], 'k*', markersize=14, label=\"Centroides\")\n",
    "\n",
    "plt.title (\"Algoritmo Fuzzy c-means\", fontsize=14)\n",
    "plt.xlabel (r\"$x_1s\", fontsize=14)\n",
    "plt.ylabel(r\"$x_2$\", fontsize=14)\n",
    "plt.legend()\n",
    "plt.show()"
   ]
  },
  {
   "cell_type": "code",
   "execution_count": null,
   "metadata": {},
   "outputs": [],
   "source": []
  },
  {
   "cell_type": "code",
   "execution_count": null,
   "metadata": {},
   "outputs": [],
   "source": []
  },
  {
   "cell_type": "code",
   "execution_count": null,
   "metadata": {},
   "outputs": [],
   "source": []
  },
  {
   "cell_type": "code",
   "execution_count": null,
   "metadata": {},
   "outputs": [],
   "source": []
  },
  {
   "attachments": {},
   "cell_type": "markdown",
   "metadata": {},
   "source": [
    "# 2. Segmentación de países"
   ]
  },
  {
   "cell_type": "code",
   "execution_count": null,
   "metadata": {},
   "outputs": [],
   "source": [
    "country = pd.read_csv('csv/Country-data.csv')\n",
    "country"
   ]
  },
  {
   "cell_type": "code",
   "execution_count": null,
   "metadata": {},
   "outputs": [],
   "source": []
  },
  {
   "attachments": {},
   "cell_type": "markdown",
   "metadata": {},
   "source": [
    "# 3. Segmentación de jugadores"
   ]
  },
  {
   "cell_type": "code",
   "execution_count": null,
   "metadata": {},
   "outputs": [],
   "source": []
  },
  {
   "cell_type": "code",
   "execution_count": null,
   "metadata": {},
   "outputs": [],
   "source": []
  }
 ],
 "metadata": {
  "kernelspec": {
   "display_name": "sist_aprendizaje_aut.nosync",
   "language": "python",
   "name": "python3"
  },
  "language_info": {
   "codemirror_mode": {
    "name": "ipython",
    "version": 3
   },
   "file_extension": ".py",
   "mimetype": "text/x-python",
   "name": "python",
   "nbconvert_exporter": "python",
   "pygments_lexer": "ipython3",
   "version": "3.9.6"
  },
  "orig_nbformat": 4
 },
 "nbformat": 4,
 "nbformat_minor": 2
}
